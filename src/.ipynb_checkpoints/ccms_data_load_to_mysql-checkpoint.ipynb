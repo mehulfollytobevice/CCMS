{
 "cells": [
  {
   "cell_type": "code",
   "execution_count": 4,
   "id": "a1d0255c",
   "metadata": {},
   "outputs": [],
   "source": [
    "import pandas as pd\n",
    "import mysql.connector as msql\n",
    "from mysql.connector import Error"
   ]
  },
  {
   "cell_type": "code",
   "execution_count": 5,
   "id": "2a3e07c5",
   "metadata": {},
   "outputs": [],
   "source": [
    "card_type = pd.read_csv('../data/card_type.csv')"
   ]
  },
  {
   "cell_type": "code",
   "execution_count": 6,
   "id": "597511dd",
   "metadata": {},
   "outputs": [
    {
     "data": {
      "text/html": [
       "<div>\n",
       "<style scoped>\n",
       "    .dataframe tbody tr th:only-of-type {\n",
       "        vertical-align: middle;\n",
       "    }\n",
       "\n",
       "    .dataframe tbody tr th {\n",
       "        vertical-align: top;\n",
       "    }\n",
       "\n",
       "    .dataframe thead th {\n",
       "        text-align: right;\n",
       "    }\n",
       "</style>\n",
       "<table border=\"1\" class=\"dataframe\">\n",
       "  <thead>\n",
       "    <tr style=\"text-align: right;\">\n",
       "      <th></th>\n",
       "      <th>card_type_id</th>\n",
       "      <th>card_type</th>\n",
       "      <th>card_network</th>\n",
       "      <th>privilege</th>\n",
       "    </tr>\n",
       "  </thead>\n",
       "  <tbody>\n",
       "    <tr>\n",
       "      <th>0</th>\n",
       "      <td>1</td>\n",
       "      <td>Bronze</td>\n",
       "      <td>MasterCard</td>\n",
       "      <td>Bronze plus MasterCard benefits</td>\n",
       "    </tr>\n",
       "    <tr>\n",
       "      <th>1</th>\n",
       "      <td>2</td>\n",
       "      <td>Silver</td>\n",
       "      <td>MasterCard</td>\n",
       "      <td>Silver plus MasterCard benefits</td>\n",
       "    </tr>\n",
       "    <tr>\n",
       "      <th>2</th>\n",
       "      <td>3</td>\n",
       "      <td>Gold</td>\n",
       "      <td>MasterCard</td>\n",
       "      <td>Gold plus MasterCard benefits</td>\n",
       "    </tr>\n",
       "    <tr>\n",
       "      <th>3</th>\n",
       "      <td>4</td>\n",
       "      <td>Platinum</td>\n",
       "      <td>MasterCard</td>\n",
       "      <td>Platinum plus MasterCard benefits</td>\n",
       "    </tr>\n",
       "    <tr>\n",
       "      <th>4</th>\n",
       "      <td>5</td>\n",
       "      <td>Diamond</td>\n",
       "      <td>MasterCard</td>\n",
       "      <td>Diamond plus MasterCard benefits</td>\n",
       "    </tr>\n",
       "  </tbody>\n",
       "</table>\n",
       "</div>"
      ],
      "text/plain": [
       "   card_type_id card_type card_network                          privilege\n",
       "0             1    Bronze   MasterCard    Bronze plus MasterCard benefits\n",
       "1             2    Silver   MasterCard    Silver plus MasterCard benefits\n",
       "2             3      Gold   MasterCard      Gold plus MasterCard benefits\n",
       "3             4  Platinum   MasterCard  Platinum plus MasterCard benefits\n",
       "4             5   Diamond   MasterCard   Diamond plus MasterCard benefits"
      ]
     },
     "execution_count": 6,
     "metadata": {},
     "output_type": "execute_result"
    }
   ],
   "source": [
    "card_type.head()"
   ]
  },
  {
   "cell_type": "code",
   "execution_count": null,
   "id": "999d4b74",
   "metadata": {},
   "outputs": [],
   "source": []
  }
 ],
 "metadata": {
  "kernelspec": {
   "display_name": "Python 3 (ipykernel)",
   "language": "python",
   "name": "python3"
  },
  "language_info": {
   "codemirror_mode": {
    "name": "ipython",
    "version": 3
   },
   "file_extension": ".py",
   "mimetype": "text/x-python",
   "name": "python",
   "nbconvert_exporter": "python",
   "pygments_lexer": "ipython3",
   "version": "3.9.12"
  }
 },
 "nbformat": 4,
 "nbformat_minor": 5
}
