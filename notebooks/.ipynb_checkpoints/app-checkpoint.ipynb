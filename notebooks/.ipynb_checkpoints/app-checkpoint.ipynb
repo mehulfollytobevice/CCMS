{
 "cells": [
  {
   "cell_type": "markdown",
   "metadata": {},
   "source": [
    "# Credit Card Managment System"
   ]
  },
  {
   "cell_type": "code",
   "execution_count": 19,
   "metadata": {},
   "outputs": [],
   "source": [
    "#import libraries and connect to the database\n",
    "import ipywidgets as widgets\n",
    "import mysql.connector as msql\n",
    "from mysql.connector import Error\n",
    "from IPython.display import Markdown, display\n",
    "import pandas as pd\n",
    "import re\n",
    "import warnings\n",
    "warnings.filterwarnings('ignore') # setting ignore as a parameter\n",
    "mysql_hst = 'localhost'\n",
    "mysql_usr = 'root'\n",
    "mysql_pwd = 'idMP@2022'"
   ]
  },
  {
   "cell_type": "markdown",
   "metadata": {},
   "source": [
    "<b>Our database has the following tables:</b>"
   ]
  },
  {
   "cell_type": "code",
   "execution_count": 20,
   "metadata": {},
   "outputs": [
    {
     "data": {
      "text/markdown": [
       "|    | Table                |   No. of rows |\n",
       "|---:|:---------------------|--------------:|\n",
       "|  0 | card                 |          1500 |\n",
       "|  1 | card_limit           |          1500 |\n",
       "|  2 | card_statement       |          5917 |\n",
       "|  3 | card_type            |            10 |\n",
       "|  4 | customer             |          1000 |\n",
       "|  5 | merchant             |            32 |\n",
       "|  6 | merchant_type        |            13 |\n",
       "|  7 | netbanking           |          1000 |\n",
       "|  8 | notification         |        287552 |\n",
       "|  9 | rewards              |        287552 |\n",
       "| 10 | transaction          |        287552 |\n",
       "| 11 | transaction_terminal |           100 |\n",
       "| 12 | transaction_type     |             4 |"
      ],
      "text/plain": [
       "<IPython.core.display.Markdown object>"
      ]
     },
     "metadata": {},
     "output_type": "display_data"
    }
   ],
   "source": [
    "try:\n",
    "    conn = msql.connect(\n",
    "                        host = mysql_hst, \n",
    "                        user = mysql_usr, \n",
    "                        password = mysql_pwd\n",
    "                        ) #Give MySQL localhost username, password\n",
    "    \n",
    "    if conn.is_connected():\n",
    "        cursor = conn.cursor()\n",
    "        cursor.execute(\"use ccms;\")\n",
    "        cursor.execute(\"show full tables where Table_Type != 'VIEW';\")\n",
    "        tables=cursor.fetchall()\n",
    "        tables=[i[0] for i in tables]\n",
    "        data=[]\n",
    "        for i in tables:\n",
    "            query=f\"SELECT COUNT(*) from {i};\"\n",
    "            cursor.execute(query)\n",
    "            data.append([i,cursor.fetchone()[0]])\n",
    "except Error as e:\n",
    "    print(\"Error while connecting to MySQL: \", e)\n",
    "\n",
    "conn.close()    \n",
    "display(Markdown(pd.DataFrame(data=data,columns=['Table','No. of rows']).to_markdown()))"
   ]
  },
  {
   "cell_type": "markdown",
   "metadata": {},
   "source": [
    "### Let's explore the data"
   ]
  },
  {
   "cell_type": "markdown",
   "metadata": {},
   "source": [
    "Using the data in our database. We can answer many interesting questions like:\n",
    "\n",
    "1. What are the top 5 merchants?\n",
    "2. Who are the highest transacting customers?\n",
    "3. What is the number of active users in given date range?\n",
    "4. Is there any relationship between transactions and transaction amount (it's random)\n",
    "5. Which are the cities where the most money is spent?"
   ]
  },
  {
   "cell_type": "markdown",
   "metadata": {},
   "source": [
    "### 1. What are the top 5 merchants?"
   ]
  },
  {
   "cell_type": "code",
   "execution_count": 21,
   "metadata": {},
   "outputs": [
    {
     "data": {
      "text/markdown": [
       "|    | merchant_type             | merchant                 |   num_transactions |   total_txn_amt |\n",
       "|---:|:--------------------------|:-------------------------|-------------------:|----------------:|\n",
       "|  0 | drug store/pharmacy       | Walgreens Boots Alliance |              20412 |     1.07731e+06 |\n",
       "|  1 | supermarket               | Publix                   |              20387 |     1.07528e+06 |\n",
       "|  2 | discount department store | Target Corporation       |              20306 |     1.07345e+06 |\n",
       "|  3 | non-store,e-commerce      | Amazon                   |              20439 |     1.07127e+06 |\n",
       "|  4 | electronics specialty     | Best Buy                 |              20405 |     1.06939e+06 |"
      ],
      "text/plain": [
       "<IPython.core.display.Markdown object>"
      ]
     },
     "metadata": {},
     "output_type": "display_data"
    }
   ],
   "source": [
    "try:\n",
    "    conn = msql.connect(\n",
    "                    host = 'localhost', \n",
    "                    user = mysql_usr, \n",
    "                    password = mysql_pwd,\n",
    "                    database='ccms'\n",
    "                    ) #Give MySQL localhost username, password  \n",
    "    query='SELECT * FROM merchant_transactions where rank_by_txn_amt<=5;'\n",
    "    result=pd.read_sql_query(query,conn)\n",
    "    result.drop(columns=['rank_by_num_txn','rank_by_txn_amt'],inplace=True)\n",
    "    display(Markdown(result.to_markdown()))\n",
    "    conn.close() #close the connection              \n",
    "except Error as e:\n",
    "    print('We are encountering the following error:', e)"
   ]
  },
  {
   "cell_type": "markdown",
   "metadata": {},
   "source": [
    "### 2. Who are the highest transacting customers?"
   ]
  },
  {
   "cell_type": "code",
   "execution_count": 22,
   "metadata": {},
   "outputs": [
    {
     "data": {
      "text/markdown": [
       "|    | first_name   | last_name   | email                         |   num_transactions |   total_txn_amt |\n",
       "|---:|:-------------|:------------|:------------------------------|-------------------:|----------------:|\n",
       "|  0 | Christina    | Reyes       | christinareyes158@gmail.com   |                896 |         85936.3 |\n",
       "|  1 | Jennifer     | Mccarthy    | jennifermccarthy345@yahoo.com |                878 |         71977.1 |\n",
       "|  2 | Cynthia      | Alexander   | cynthiaalexander409@gmail.com |                829 |         68113.1 |\n",
       "|  3 | Wanda        | Conrad      | wandaconrad885@yahoo.com      |                909 |         63805.2 |\n",
       "|  4 | Steven       | Meyer       | stevenmeyer498@gmail.com      |                750 |         62292.8 |"
      ],
      "text/plain": [
       "<IPython.core.display.Markdown object>"
      ]
     },
     "metadata": {},
     "output_type": "display_data"
    }
   ],
   "source": [
    "try:\n",
    "    conn = msql.connect(\n",
    "                    host = 'localhost', \n",
    "                    user = mysql_usr, \n",
    "                    password = mysql_pwd,\n",
    "                    database='ccms'\n",
    "                    ) #Give MySQL localhost username, password  \n",
    "    query='SELECT * FROM customer_transactions where rank_by_txn_amt<=5;'\n",
    "    result=pd.read_sql_query(query,conn)\n",
    "    result.drop(columns=['rank_by_num_txn','rank_by_txn_amt'],inplace=True)\n",
    "    display(Markdown(result.to_markdown()))\n",
    "    conn.close() #close the connection              \n",
    "except Error as e:\n",
    "    print('We are encountering the following error:', e)"
   ]
  },
  {
   "cell_type": "markdown",
   "metadata": {},
   "source": [
    "### 3. Which are the cities where the most money is spent?"
   ]
  },
  {
   "cell_type": "code",
   "execution_count": 23,
   "metadata": {},
   "outputs": [
    {
     "data": {
      "text/markdown": [
       "|    | city         |   num_transactions |    total_txn_amt |\n",
       "|---:|:-------------|-------------------:|-----------------:|\n",
       "|  0 | Arvada       |              20468 |      1.06934e+06 |\n",
       "|  1 | Anchorage    |              15193 | 836460           |\n",
       "|  2 | Nashville    |              15156 | 789842           |\n",
       "|  3 | Fayetteville |              14410 | 784847           |\n",
       "|  4 | Glendale     |              12454 | 757735           |"
      ],
      "text/plain": [
       "<IPython.core.display.Markdown object>"
      ]
     },
     "metadata": {},
     "output_type": "display_data"
    }
   ],
   "source": [
    "try:\n",
    "    conn = msql.connect(\n",
    "                    host = 'localhost', \n",
    "                    user = mysql_usr, \n",
    "                    password = mysql_pwd,\n",
    "                    database='ccms'\n",
    "                    ) #Give MySQL localhost username, password  \n",
    "    query='SELECT * FROM city_transactions where rank_by_txn_amt<=5;'\n",
    "    result=pd.read_sql_query(query,conn)\n",
    "    result.drop(columns=['rank_by_num_txn','rank_by_txn_amt'],inplace=True)\n",
    "    display(Markdown(result.to_markdown()))\n",
    "    conn.close() #close the connection              \n",
    "except Error as e:\n",
    "    print('We are encountering the following error:', e)"
   ]
  },
  {
   "cell_type": "markdown",
   "metadata": {},
   "source": [
    "### 4. What is the number of active users in given date range?"
   ]
  },
  {
   "cell_type": "code",
   "execution_count": 24,
   "metadata": {},
   "outputs": [],
   "source": [
    "start=widgets.DatePicker(\n",
    "    description='Startdate',\n",
    "    disabled=False)\n",
    "end=widgets.DatePicker(\n",
    "    description='End date',\n",
    "    disabled=False)\n",
    "dbutton=widgets.Button(\n",
    "    description='Execute',\n",
    "    disabled=False,\n",
    "    button_style='',\n",
    "    tooltip='Click me',\n",
    "    icon='check')\n",
    "outd=widgets.Output()"
   ]
  },
  {
   "cell_type": "code",
   "execution_count": 53,
   "metadata": {},
   "outputs": [
    {
     "data": {
      "application/vnd.jupyter.widget-view+json": {
       "model_id": "c85cb0dc63574ca48510fb53deb05040",
       "version_major": 2,
       "version_minor": 0
      },
      "text/plain": [
       "DatePicker(value=None, description='Startdate')"
      ]
     },
     "metadata": {},
     "output_type": "display_data"
    }
   ],
   "source": [
    "widgets.DatePicker(\n",
    "    description='Startdate',\n",
    "    disabled=False)"
   ]
  },
  {
   "cell_type": "code",
   "execution_count": 51,
   "metadata": {},
   "outputs": [],
   "source": [
    "start.value"
   ]
  },
  {
   "cell_type": "code",
   "execution_count": 25,
   "metadata": {},
   "outputs": [],
   "source": [
    "def select_date(change):\n",
    "    outd.clear_output()\n",
    "    # logic for crud query\n",
    "    try:\n",
    "        conn = msql.connect(\n",
    "                        host = 'localhost', \n",
    "                        user = mysql_usr, \n",
    "                        password = myswl_pwd,\n",
    "                        database='ccms'\n",
    "                        ) #Give MySQL localhost username, password\n",
    "        with outd:\n",
    "            print(start.value,end.value)\n",
    "        start=start.value.strftime(\"%Y-%m-%d\")\n",
    "        end=end.value.strftime(\"%Y-%m-%d\")\n",
    "        query=f\"select get_active_customers_for_range({start}, {end});\"\n",
    "        result=pd.read_sql_query(query,conn)\n",
    "        with outd:\n",
    "            display(Markdown(result.head(100).to_markdown()))\n",
    "        conn.close() #close the connection              \n",
    "    except Error as e:\n",
    "        outd.clear_output()\n",
    "        with outd:\n",
    "            print('We are encountering the following error:', e)\n",
    "                    \n",
    "dbutton.on_click(select_date)"
   ]
  },
  {
   "cell_type": "code",
   "execution_count": 34,
   "metadata": {},
   "outputs": [
    {
     "data": {
      "application/vnd.jupyter.widget-view+json": {
       "model_id": "d5f80e27a4734e069e6af7a45092860c",
       "version_major": 2,
       "version_minor": 0
      },
      "text/plain": [
       "VBox(children=(DatePicker(value=None, description='Startdate'), DatePicker(value=None, description='End date')…"
      ]
     },
     "metadata": {},
     "output_type": "display_data"
    }
   ],
   "source": [
    "widgets.VBox([\n",
    "    start,\n",
    "    end,\n",
    "    dbutton,\n",
    "    outd])"
   ]
  },
  {
   "cell_type": "markdown",
   "metadata": {},
   "source": [
    "### 5. Is there any trend for transactions and transaction amount  for the given time period?"
   ]
  },
  {
   "cell_type": "code",
   "execution_count": 27,
   "metadata": {},
   "outputs": [
    {
     "data": {
      "text/markdown": [
       "|    | city         |   num_transactions |    total_txn_amt |\n",
       "|---:|:-------------|-------------------:|-----------------:|\n",
       "|  0 | Arvada       |              20468 |      1.06934e+06 |\n",
       "|  1 | Anchorage    |              15193 | 836460           |\n",
       "|  2 | Nashville    |              15156 | 789842           |\n",
       "|  3 | Fayetteville |              14410 | 784847           |\n",
       "|  4 | Glendale     |              12454 | 757735           |"
      ],
      "text/plain": [
       "<IPython.core.display.Markdown object>"
      ]
     },
     "metadata": {},
     "output_type": "display_data"
    }
   ],
   "source": [
    "try:\n",
    "    conn = msql.connect(\n",
    "                    host = 'localhost', \n",
    "                    user = mysql_usr, \n",
    "                    password = mysql_pwd,\n",
    "                    database='ccms'\n",
    "                    ) #Give MySQL localhost username, password  \n",
    "    query='SELECT * FROM city_transactions where rank_by_txn_amt<=5;'\n",
    "    result=pd.read_sql_query(query,conn)\n",
    "    result.drop(columns=['rank_by_num_txn','rank_by_txn_amt'],inplace=True)\n",
    "    display(Markdown(result.to_markdown()))\n",
    "    conn.close() #close the connection              \n",
    "except Error as e:\n",
    "    print('We are encountering the following error:', e)"
   ]
  },
  {
   "cell_type": "markdown",
   "metadata": {},
   "source": [
    "### INSERT, UPDATE or DELETE queries panel\n",
    "This portion of the application allows you to <b>insert, update or delete records </b> to/from the tables."
   ]
  },
  {
   "cell_type": "code",
   "execution_count": 28,
   "metadata": {},
   "outputs": [],
   "source": [
    "# initialize all the widgets\n",
    "username=widgets.Password(\n",
    "    value='',\n",
    "    placeholder='Enter username',\n",
    "    description='Username:',\n",
    "    disabled=False\n",
    ")\n",
    "password=widgets.Password(\n",
    "    value='',\n",
    "    placeholder='Enter password',\n",
    "    description='Password:',\n",
    "    disabled=False\n",
    ")\n",
    "crud_query=widgets.Textarea(\n",
    "    value='Enter your query',\n",
    "    placeholder='Query',\n",
    "    description='String:',\n",
    "    disabled=False\n",
    ")\n",
    "button = widgets.Button(\n",
    "    description='Execute',\n",
    "    disabled=False,\n",
    "    button_style='',\n",
    "    tooltip='Click me',\n",
    "    icon='check'\n",
    ")\n",
    "out=widgets.Output()"
   ]
  },
  {
   "cell_type": "code",
   "execution_count": 29,
   "metadata": {},
   "outputs": [],
   "source": [
    "def crud_ops(change):\n",
    "    out.clear_output()\n",
    "    # logic for crud query\n",
    "    try:\n",
    "        conn = msql.connect(\n",
    "                        host = 'localhost', \n",
    "                        user = username.value, \n",
    "                        password = password.value\n",
    "                        ) #Give MySQL localhost username, password\n",
    "        cursor = conn.cursor() #initialize cursor \n",
    "        cursor.execute(\"use ccms;\")\n",
    "        sql = crud_query.value\n",
    "        cursor.execute(sql)\n",
    "        conn.commit()\n",
    "        conn.close() #close the connection \n",
    "        if bool(re.search('^INSERT',sql,re.IGNORECASE)):\n",
    "            with out:\n",
    "                print('Successfully inserted row!!')\n",
    "        elif bool(re.search('^UPDATE',sql,re.IGNORECASE)):\n",
    "            with out:\n",
    "                print('Successfully updated row!!')\n",
    "        elif bool(re.search('^DELETE',sql,re.IGNORECASE)):\n",
    "            with out:\n",
    "                print('Successfully deleted row!!')               \n",
    "    except Error as e:\n",
    "        out.clear_output()\n",
    "        with out:\n",
    "            print('We are encountering the following error:', e)\n",
    "                    \n",
    "button.on_click(crud_ops)"
   ]
  },
  {
   "cell_type": "code",
   "execution_count": 30,
   "metadata": {},
   "outputs": [
    {
     "data": {
      "application/vnd.jupyter.widget-view+json": {
       "model_id": "a1a4dab7e2b24974823185c1dec1545a",
       "version_major": 2,
       "version_minor": 0
      },
      "text/plain": [
       "VBox(children=(Password(description='Username:', placeholder='Enter username'), Password(description='Password…"
      ]
     },
     "metadata": {},
     "output_type": "display_data"
    }
   ],
   "source": [
    "widgets.VBox([username, \n",
    "      password,\n",
    "      crud_query,\n",
    "      button,\n",
    "      out])"
   ]
  },
  {
   "cell_type": "markdown",
   "metadata": {},
   "source": [
    "### SELECT queries panel\n",
    "You can also enter select queries here and get the desired data from the database."
   ]
  },
  {
   "cell_type": "code",
   "execution_count": 31,
   "metadata": {},
   "outputs": [],
   "source": [
    "# initialize all the widgets\n",
    "username2=widgets.Password(\n",
    "    value='',\n",
    "    placeholder='Enter username',\n",
    "    description='Username:',\n",
    "    disabled=False\n",
    ")\n",
    "password2=widgets.Password(\n",
    "    value='',\n",
    "    placeholder='Enter password',\n",
    "    description='Password:',\n",
    "    disabled=False\n",
    ")\n",
    "select_query=widgets.Textarea(\n",
    "    value='Enter your query',\n",
    "    placeholder='Query',\n",
    "    description='String:',\n",
    "    disabled=False\n",
    ")\n",
    "button2 = widgets.Button(\n",
    "    description='Execute',\n",
    "    disabled=False,\n",
    "    button_style='',\n",
    "    tooltip='Click me',\n",
    "    icon='check'\n",
    ")\n",
    "out2=widgets.Output()"
   ]
  },
  {
   "cell_type": "code",
   "execution_count": 32,
   "metadata": {},
   "outputs": [],
   "source": [
    "def select_ops(change):\n",
    "    out2.clear_output()\n",
    "    # logic for crud query\n",
    "    try:\n",
    "        conn = msql.connect(\n",
    "                        host = 'localhost', \n",
    "                        user = username2.value, \n",
    "                        password = password2.value,\n",
    "                        database='ccms'\n",
    "                        ) #Give MySQL localhost username, password  \n",
    "        result=pd.read_sql_query(select_query.value,conn)\n",
    "        with out2:\n",
    "            display(Markdown(result.head(100).to_markdown()))\n",
    "        conn.close() #close the connection              \n",
    "    except Error as e:\n",
    "        out2.clear_output()\n",
    "        with out2:\n",
    "            print('We are encountering the following error:', e)\n",
    "                    \n",
    "button2.on_click(select_ops)"
   ]
  },
  {
   "cell_type": "code",
   "execution_count": 33,
   "metadata": {},
   "outputs": [
    {
     "data": {
      "application/vnd.jupyter.widget-view+json": {
       "model_id": "1435a1a1d8744edea4c59e76ebd4de78",
       "version_major": 2,
       "version_minor": 0
      },
      "text/plain": [
       "VBox(children=(Password(description='Username:', placeholder='Enter username'), Password(description='Password…"
      ]
     },
     "metadata": {},
     "output_type": "display_data"
    }
   ],
   "source": [
    "widgets.VBox([\n",
    "    username2,\n",
    "    password2,\n",
    "    select_query,\n",
    "    button2,\n",
    "    out2])"
   ]
  }
 ],
 "metadata": {
  "kernelspec": {
   "display_name": "Miniconda (dbms)",
   "language": "python",
   "name": "miniconda-dbms"
  },
  "language_info": {
   "codemirror_mode": {
    "name": "ipython",
    "version": 3
   },
   "file_extension": ".py",
   "mimetype": "text/x-python",
   "name": "python",
   "nbconvert_exporter": "python",
   "pygments_lexer": "ipython3",
   "version": "3.9.15"
  },
  "vscode": {
   "interpreter": {
    "hash": "52925092df15e0b83c538c237761c20a9f281b9b5b31d559d9366740d9d00064"
   }
  }
 },
 "nbformat": 4,
 "nbformat_minor": 2
}
