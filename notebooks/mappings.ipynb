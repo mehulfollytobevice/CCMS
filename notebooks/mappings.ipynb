{
 "cells": [
  {
   "cell_type": "markdown",
   "metadata": {},
   "source": [
    "# Mappings\n",
    "\n",
    "This file contains the code for the mappings between the tables"
   ]
  },
  {
   "cell_type": "code",
   "execution_count": null,
   "metadata": {
    "tags": [
     "parameters"
    ]
   },
   "outputs": [],
   "source": [
    "n_cust=100\n",
    "n_card=100"
   ]
  },
  {
   "cell_type": "code",
   "execution_count": 48,
   "metadata": {},
   "outputs": [],
   "source": [
    "import pandas as pd\n",
    "import random\n",
    "PATH='YOUR PATH/data'"
   ]
  },
  {
   "cell_type": "markdown",
   "metadata": {},
   "source": [
    "## Netbanking and Customer Table\n",
    "\n",
    "Netbanking table should contain the `cust_id` from the Customer table."
   ]
  },
  {
   "cell_type": "code",
   "execution_count": 49,
   "metadata": {},
   "outputs": [],
   "source": [
    "# this is a one to one mapping \n",
    "df=pd.read_csv(PATH+f'/table_netbanking_n-{n_cust}.csv')\n",
    "df_cust=pd.read_csv(PATH+f'/table_customer_n-{n_cust}.csv')\n",
    "df['cust_id']= df_cust['cust_id']\n",
    "df.to_csv(PATH+f'/table_netbanking_n-{n_cust}.csv',index=False)"
   ]
  },
  {
   "cell_type": "markdown",
   "metadata": {},
   "source": [
    "## Card and Customer Table\n",
    "Card table should contain the `cust_id` from the Customer table"
   ]
  },
  {
   "cell_type": "code",
   "execution_count": 50,
   "metadata": {},
   "outputs": [],
   "source": [
    "# this is one to many mapping\n",
    "df_card=pd.read_csv(PATH+f'/table_card_n-{n_card}.csv')\n",
    "ids=list(df_cust['cust_id'])\n",
    "cust_ids=[]\n",
    "max_cards=3 # number of maximum cards that a customer can have \n",
    "while len(cust_ids)!=df_card.shape[0]:\n",
    "    r=random.choice(ids)\n",
    "    if cust_ids.count(r)<max_cards:\n",
    "        cust_ids.append(r)\n",
    "df_card['cust_id']=cust_ids\n",
    "# df_card.to_csv(PATH+f'/table_card_n-{n}.csv',index=False)"
   ]
  },
  {
   "cell_type": "markdown",
   "metadata": {},
   "source": [
    "## Card type and Card table "
   ]
  },
  {
   "cell_type": "markdown",
   "metadata": {},
   "source": [
    "Card table should contain `card_type_id` from Card type table"
   ]
  },
  {
   "cell_type": "code",
   "execution_count": 51,
   "metadata": {},
   "outputs": [],
   "source": [
    "df_card_type=pd.read_csv(PATH+f'/table_card_type.csv')\n",
    "ids=list(df_card_type['card_type_id'])\n",
    "c_type_ids=random.choices(ids,k=df_card.shape[0])\n",
    "df_card['card_type_id']=c_type_ids\n",
    "df_card.to_csv(PATH+f'/table_card_n-{n_card}.csv',index=False)"
   ]
  },
  {
   "cell_type": "markdown",
   "metadata": {},
   "source": [
    "## Transaction type and Merchant and Transactions"
   ]
  },
  {
   "cell_type": "markdown",
   "metadata": {},
   "source": [
    "Transaction table should contain `txn_type_id` and `merchant_id`"
   ]
  },
  {
   "cell_type": "code",
   "execution_count": 52,
   "metadata": {},
   "outputs": [],
   "source": [
    "df_trans=pd.read_csv(PATH+f'/table_transactions_n-{n_card}.csv')\n",
    "df_merch=pd.read_csv(PATH+f'/table_merchant_type.csv')\n",
    "df_t_type=pd.read_csv(PATH+f'/table_transaction_type.csv')\n",
    "df_trans['TXN_TYPE_ID']=random.choices(list(df_t_type['txn_type_id']),weights=[8,90,0.5,1.5],k=df_trans.shape[0])\n",
    "df_trans['M_ID']=random.choices(list(df_merch['id']),k=df_trans.shape[0])\n",
    "df_trans.to_csv(PATH+f'/table_transactions_n-{n_card}.csv',index=False)"
   ]
  }
 ],
 "metadata": {
  "kernelspec": {
   "display_name": "Python 3.9.13 ('dbms')",
   "language": "python",
   "name": "python3"
  },
  "language_info": {
   "codemirror_mode": {
    "name": "ipython",
    "version": 3
   },
   "file_extension": ".py",
   "mimetype": "text/x-python",
   "name": "python",
   "nbconvert_exporter": "python",
   "pygments_lexer": "ipython3",
   "version": "3.9.15"
  },
  "orig_nbformat": 4,
  "vscode": {
   "interpreter": {
    "hash": "52925092df15e0b83c538c237761c20a9f281b9b5b31d559d9366740d9d00064"
   }
  }
 },
 "nbformat": 4,
 "nbformat_minor": 2
}
